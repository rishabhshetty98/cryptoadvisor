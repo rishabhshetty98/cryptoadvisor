{
 "cells": [
  {
   "cell_type": "code",
   "execution_count": 1,
   "metadata": {},
   "outputs": [
    {
     "output_type": "stream",
     "name": "stdout",
     "text": "2.2.0\n            BTC-USD_close  BTC-USD_volume\ntime                                     \n1528968660    6489.549805        0.587100\n1528968720    6487.379883        7.706374\n1528968780    6479.410156        3.088252\n1528968840    6479.410156        1.404100\n1528968900    6479.979980        0.753000\n            BTC-USD_close  BTC-USD_volume  LTC-USD_close  LTC-USD_volume\ntime                                                                    \n1528968660    6489.549805        0.587100      96.580002        9.647200\n1528968720    6487.379883        7.706374      96.660004      314.387024\n1528968780    6479.410156        3.088252      96.570000       77.129799\n1528968840    6479.410156        1.404100      96.500000        7.216067\n1528968900    6479.979980        0.753000      96.389999      524.539978\n            BTC-USD_close  BTC-USD_volume  LTC-USD_close  LTC-USD_volume  \\\ntime                                                                       \n1528968660    6489.549805        0.587100      96.580002        9.647200   \n1528968720    6487.379883        7.706374      96.660004      314.387024   \n1528968780    6479.410156        3.088252      96.570000       77.129799   \n1528968840    6479.410156        1.404100      96.500000        7.216067   \n1528968900    6479.979980        0.753000      96.389999      524.539978   \n\n            ETH-USD_close  ETH-USD_volume  \ntime                                       \n1528968660            NaN             NaN  \n1528968720      486.01001       26.019083  \n1528968780      486.00000        8.449400  \n1528968840      485.75000       26.994646  \n1528968900      486.00000       77.355759  \n            BTC-USD_close  BTC-USD_volume  LTC-USD_close  LTC-USD_volume  \\\ntime                                                                       \n1528968660    6489.549805        0.587100      96.580002        9.647200   \n1528968720    6487.379883        7.706374      96.660004      314.387024   \n1528968780    6479.410156        3.088252      96.570000       77.129799   \n1528968840    6479.410156        1.404100      96.500000        7.216067   \n1528968900    6479.979980        0.753000      96.389999      524.539978   \n\n            ETH-USD_close  ETH-USD_volume  BCH-USD_close  BCH-USD_volume  \ntime                                                                      \n1528968660            NaN             NaN     871.719971        5.675361  \n1528968720      486.01001       26.019083     870.859985       26.856577  \n1528968780      486.00000        8.449400     870.099976        1.124300  \n1528968840      485.75000       26.994646     870.789978        1.749862  \n1528968900      486.00000       77.355759     870.000000        1.680500  \n"
    }
   ],
   "source": [
    "import pandas as pd\n",
    "import os\n",
    "import tensorflow as tf\n",
    "from sklearn import preprocessing\n",
    "from collections import deque\n",
    "import numpy as np \n",
    "import random\n",
    "import tensorflow as tf \n",
    "from tensorflow.keras.models import Sequential\n",
    "from tensorflow.keras.layers import Dense, Dropout, LSTM, BatchNormalization\n",
    "from tensorflow.keras.callbacks import TensorBoard, ModelCheckpoint\n",
    "import time\n",
    " \n",
    "\n",
    "print(tf.__version__)\n",
    "\n",
    "main_df = pd.DataFrame()\n",
    "\n",
    "ratios = [\"BTC-USD\", \"LTC-USD\", \"ETH-USD\", \"BCH-USD\"]\n",
    "for ratio in ratios:\n",
    "    dataset = f\"D:/projects/dataset/crypto_data/{ratio}.csv\"\n",
    "\n",
    "    df = pd.read_csv(dataset, names = [\"time\", \"low\", \"high\", \"open\", \"close\", \"volume\"])\n",
    "\n",
    "    df.rename(columns={\"close\":f\"{ratio}_close\", \"volume\":f\"{ratio}_volume\"}, inplace=True)\n",
    "\n",
    "    df.set_index(\"time\", inplace = True)\n",
    "\n",
    "    df = df[[f\"{ratio}_close\", f\"{ratio}_volume\"]]\n",
    "\n",
    "    if len(main_df)==0:\n",
    "        main_df = df\n",
    "    else:\n",
    "        main_df=main_df.join(df)\n",
    "\n",
    "    print(main_df.head())\n"
   ]
  },
  {
   "cell_type": "code",
   "execution_count": 2,
   "metadata": {},
   "outputs": [],
   "source": [
    "SEQ_LEN = 60\n",
    "FUTURE_PERIOD_PREDICT = 3 #3MINUTES INTO THE FUTURE\n",
    "RATIO_TO_PREDICT = \"LTC-USD\"\n",
    "EPOCHS = 32\n",
    "BATCH_SIZE = 64\n",
    "\n",
    "\n",
    "\n",
    "main_df['future'] = main_df[f\"{RATIO_TO_PREDICT}_close\"].shift(-FUTURE_PERIOD_PREDICT)\n",
    "\n",
    "\n",
    "\n",
    "def classify(current,future):\n",
    "    if float(future)>float(current):\n",
    "        return 1\n",
    "    else:\n",
    "        return 0\n",
    "\n",
    "main_df['target'] = list(map(classify, main_df[f\"{RATIO_TO_PREDICT}_close\"], main_df[\"future\"]))\n",
    "\n",
    "# print(main_df[[f\"{RATIO_TO_PREDICT}_close\",\"future\", \"target\"]].head(10))\n",
    "\n",
    "def preprocess_df(df):\n",
    "    df.drop('future', 1)\n",
    "    for col in df.columns:\n",
    "        if col != \"target\":\n",
    "            df[col] = df[col].pct_change()\n",
    "            df.dropna(inplace=True)\n",
    "            df[col] = preprocessing.scale(df[col].values)\n",
    "    df.dropna(inplace=True)\n",
    "\n",
    "    sequential_data = []\n",
    "    prev_days = deque(maxlen=SEQ_LEN)#updates data to the latest 60min batch\n",
    "    for i in df.values:\n",
    "        prev_days.append([n for n in i[:-1]]) #all columns except target\n",
    "        if len(prev_days) == SEQ_LEN:\n",
    "            sequential_data.append([np.array(prev_days), i[-1]]) #Xandy\n",
    "\n",
    "    random.shuffle(sequential_data)\n",
    "\n",
    "#balancing the data\n",
    "\n",
    "    buys = []\n",
    "    sells = []\n",
    "\n",
    "    for seq , target in sequential_data:\n",
    "        if target == 0:\n",
    "            sells.append([seq, target])\n",
    "        elif target == 1:\n",
    "            buys.append([seq, target])\n",
    "    \n",
    "    random.shuffle(buys)\n",
    "    random.shuffle(sells)\n",
    "\n",
    "    lower =  min(len(buys), len(sells))\n",
    "    buys = buys[:lower]\n",
    "    sells = sells[:lower]\n",
    "\n",
    "    sequential_data = buys + sells\n",
    "    random.shuffle(sequential_data)\n",
    "\n",
    "    X = []\n",
    "    y = []\n",
    "\n",
    "    for seq, target in sequential_data:\n",
    "        X.append(seq)\n",
    "        y.append(target)\n",
    "    return np.array(X), np.array(y)\n",
    "    \n"
   ]
  },
  {
   "cell_type": "code",
   "execution_count": 3,
   "metadata": {
    "tags": [
     "outputPrepend"
    ]
   },
   "outputs": [
    {
     "output_type": "stream",
     "name": "stdout",
     "text": "1535215200\n"
    }
   ],
   "source": [
    "times = sorted(main_df.index.values)\n",
    "# print(times)\n",
    "last_20pct = times[int(len(times)-1)]\n",
    "last_5pct = times[int(0.80*len(times))] #separating last 5pct to test against the model as taking random 5% cannot lead to overfitting\n",
    "threshold = times[int(0.75*len(times))]\n",
    "print(last_20pct)\n",
    "\n",
    "\n",
    "test_data = main_df[np.logical_and(main_df.index > last_5pct, main_df.index <= last_20pct)]\n",
    "validation_main_df = main_df[np.logical_and(main_df.index > threshold,main_df.index <= last_5pct)] #timestamp after last 5%\n",
    "main_df =  main_df[(main_df.index <= threshold)]\n",
    "\n",
    "# print(test_data[-1:])\n",
    "# # print(main_df[-1:])\n",
    "# # print(validation_main_df[0:])"
   ]
  },
  {
   "cell_type": "code",
   "execution_count": 4,
   "metadata": {},
   "outputs": [
    {
     "output_type": "stream",
     "name": "stdout",
     "text": "train data: 53960 validation: 3730\nDont buys: 26980, buys: 26980\nVALIDATION Dont buys: 26980, buys: 26980\n"
    }
   ],
   "source": [
    "train_x, train_y = preprocess_df(main_df)\n",
    "validation_x, validation_y = preprocess_df(validation_main_df)\n",
    "test_x, test_y = preprocess_df(test_data)\n",
    "\n",
    "uniquet, countst = np.unique(train_y, return_counts=True)\n",
    "uniquev, countsv = np.unique(train_y, return_counts=True)\n",
    "\n",
    "print(f\"train data: {len(train_x)} validation: {len(validation_x)}\")\n",
    "print(f\"Dont buys: {countst[0]}, buys: {countst[1]}\")\n",
    "print(f\"VALIDATION Dont buys: {countsv[0]}, buys: {countsv[1]}\")"
   ]
  },
  {
   "cell_type": "code",
   "execution_count": 5,
   "metadata": {},
   "outputs": [
    {
     "output_type": "stream",
     "name": "stdout",
     "text": "Epoch 1/32\n  2/844 [..............................] - ETA: 2:04 - loss: 1.2023 - accuracy: 0.5547WARNING:tensorflow:Method (on_train_batch_end) is slow compared to the batch update (0.140919). Check your callbacks.\n844/844 [==============================] - ETA: 0s - loss: 0.3048 - accuracy: 0.8593WARNING:tensorflow:From C:\\Users\\chill\\AppData\\Roaming\\Python\\Python37\\site-packages\\tensorflow\\python\\ops\\resource_variable_ops.py:1817: calling BaseResourceVariable.__init__ (from tensorflow.python.ops.resource_variable_ops) with constraint is deprecated and will be removed in a future version.\nInstructions for updating:\nIf using Keras pass *_constraint arguments to layers.\nINFO:tensorflow:Assets written to: models/RNN_Final-01.model\\assets\n844/844 [==============================] - 33s 40ms/step - loss: 0.3048 - accuracy: 0.8593 - val_loss: 0.2168 - val_accuracy: 0.9003\nEpoch 2/32\n843/844 [============================>.] - ETA: 0s - loss: 0.1692 - accuracy: 0.9282INFO:tensorflow:Assets written to: models/RNN_Final-02.model\\assets\n844/844 [==============================] - 28s 33ms/step - loss: 0.1691 - accuracy: 0.9282 - val_loss: 0.3680 - val_accuracy: 0.8700\nEpoch 3/32\n843/844 [============================>.] - ETA: 0s - loss: 0.1421 - accuracy: 0.9387INFO:tensorflow:Assets written to: models/RNN_Final-03.model\\assets\n844/844 [==============================] - 28s 33ms/step - loss: 0.1421 - accuracy: 0.9387 - val_loss: 0.2453 - val_accuracy: 0.8944\nEpoch 4/32\n841/844 [============================>.] - ETA: 0s - loss: 0.1281 - accuracy: 0.9461INFO:tensorflow:Assets written to: models/RNN_Final-04.model\\assets\n844/844 [==============================] - 28s 33ms/step - loss: 0.1280 - accuracy: 0.9461 - val_loss: 0.2833 - val_accuracy: 0.8845\nEpoch 5/32\n841/844 [============================>.] - ETA: 0s - loss: 0.1144 - accuracy: 0.9512INFO:tensorflow:Assets written to: models/RNN_Final-05.model\\assets\n844/844 [==============================] - 28s 33ms/step - loss: 0.1145 - accuracy: 0.9512 - val_loss: 0.2202 - val_accuracy: 0.9086\nEpoch 6/32\n842/844 [============================>.] - ETA: 0s - loss: 0.1065 - accuracy: 0.9560INFO:tensorflow:Assets written to: models/RNN_Final-06.model\\assets\n844/844 [==============================] - 28s 33ms/step - loss: 0.1066 - accuracy: 0.9559 - val_loss: 0.1844 - val_accuracy: 0.9161\nEpoch 7/32\n842/844 [============================>.] - ETA: 0s - loss: 0.0969 - accuracy: 0.9606INFO:tensorflow:Assets written to: models/RNN_Final-07.model\\assets\n844/844 [==============================] - 28s 33ms/step - loss: 0.0969 - accuracy: 0.9606 - val_loss: 0.1595 - val_accuracy: 0.9335\nEpoch 8/32\n844/844 [==============================] - ETA: 0s - loss: 0.0893 - accuracy: 0.9634INFO:tensorflow:Assets written to: models/RNN_Final-08.model\\assets\n844/844 [==============================] - 28s 33ms/step - loss: 0.0893 - accuracy: 0.9634 - val_loss: 0.1285 - val_accuracy: 0.9472\nEpoch 9/32\n841/844 [============================>.] - ETA: 0s - loss: 0.0805 - accuracy: 0.9666INFO:tensorflow:Assets written to: models/RNN_Final-09.model\\assets\n844/844 [==============================] - 28s 33ms/step - loss: 0.0804 - accuracy: 0.9667 - val_loss: 0.1143 - val_accuracy: 0.9536\nEpoch 10/32\n843/844 [============================>.] - ETA: 0s - loss: 0.0761 - accuracy: 0.9703INFO:tensorflow:Assets written to: models/RNN_Final-10.model\\assets\n844/844 [==============================] - 28s 33ms/step - loss: 0.0760 - accuracy: 0.9703 - val_loss: 0.1667 - val_accuracy: 0.9330\nEpoch 11/32\n842/844 [============================>.] - ETA: 0s - loss: 0.0728 - accuracy: 0.9711INFO:tensorflow:Assets written to: models/RNN_Final-11.model\\assets\n844/844 [==============================] - 28s 33ms/step - loss: 0.0727 - accuracy: 0.9710 - val_loss: 0.1251 - val_accuracy: 0.9528\nEpoch 12/32\n842/844 [============================>.] - ETA: 0s - loss: 0.0674 - accuracy: 0.9732INFO:tensorflow:Assets written to: models/RNN_Final-12.model\\assets\n844/844 [==============================] - 28s 33ms/step - loss: 0.0675 - accuracy: 0.9731 - val_loss: 0.0912 - val_accuracy: 0.9643\nEpoch 13/32\n842/844 [============================>.] - ETA: 0s - loss: 0.0614 - accuracy: 0.9757INFO:tensorflow:Assets written to: models/RNN_Final-13.model\\assets\n844/844 [==============================] - 28s 33ms/step - loss: 0.0614 - accuracy: 0.9757 - val_loss: 0.1266 - val_accuracy: 0.9416\nEpoch 14/32\n843/844 [============================>.] - ETA: 0s - loss: 0.0592 - accuracy: 0.9764INFO:tensorflow:Assets written to: models/RNN_Final-14.model\\assets\n844/844 [==============================] - 28s 33ms/step - loss: 0.0592 - accuracy: 0.9764 - val_loss: 0.1164 - val_accuracy: 0.9555\nEpoch 15/32\n844/844 [==============================] - ETA: 0s - loss: 0.0554 - accuracy: 0.9782INFO:tensorflow:Assets written to: models/RNN_Final-15.model\\assets\n844/844 [==============================] - 28s 33ms/step - loss: 0.0554 - accuracy: 0.9782 - val_loss: 0.1613 - val_accuracy: 0.9432\nEpoch 16/32\n841/844 [============================>.] - ETA: 0s - loss: 0.0533 - accuracy: 0.9789INFO:tensorflow:Assets written to: models/RNN_Final-16.model\\assets\n844/844 [==============================] - 28s 33ms/step - loss: 0.0533 - accuracy: 0.9790 - val_loss: 0.1326 - val_accuracy: 0.9539\nEpoch 17/32\n842/844 [============================>.] - ETA: 0s - loss: 0.0509 - accuracy: 0.9804INFO:tensorflow:Assets written to: models/RNN_Final-17.model\\assets\n844/844 [==============================] - 28s 33ms/step - loss: 0.0509 - accuracy: 0.9804 - val_loss: 0.1960 - val_accuracy: 0.9351\nEpoch 18/32\n842/844 [============================>.] - ETA: 0s - loss: 0.0490 - accuracy: 0.9812INFO:tensorflow:Assets written to: models/RNN_Final-18.model\\assets\n844/844 [==============================] - 28s 33ms/step - loss: 0.0491 - accuracy: 0.9812 - val_loss: 0.1664 - val_accuracy: 0.9416\nEpoch 19/32\n843/844 [============================>.] - ETA: 0s - loss: 0.0479 - accuracy: 0.9814INFO:tensorflow:Assets written to: models/RNN_Final-19.model\\assets\n844/844 [==============================] - 28s 33ms/step - loss: 0.0479 - accuracy: 0.9814 - val_loss: 0.1029 - val_accuracy: 0.9673\nEpoch 20/32\n842/844 [============================>.] - ETA: 0s - loss: 0.0459 - accuracy: 0.9823INFO:tensorflow:Assets written to: models/RNN_Final-20.model\\assets\n844/844 [==============================] - 28s 33ms/step - loss: 0.0459 - accuracy: 0.9823 - val_loss: 0.2073 - val_accuracy: 0.9287\nEpoch 21/32\n841/844 [============================>.] - ETA: 0s - loss: 0.0424 - accuracy: 0.9840INFO:tensorflow:Assets written to: models/RNN_Final-21.model\\assets\n844/844 [==============================] - 28s 33ms/step - loss: 0.0425 - accuracy: 0.9840 - val_loss: 0.1936 - val_accuracy: 0.9394\nEpoch 22/32\n842/844 [============================>.] - ETA: 0s - loss: 0.0450 - accuracy: 0.9828INFO:tensorflow:Assets written to: models/RNN_Final-22.model\\assets\n844/844 [==============================] - 28s 33ms/step - loss: 0.0450 - accuracy: 0.9828 - val_loss: 0.1233 - val_accuracy: 0.9609\nEpoch 23/32\n841/844 [============================>.] - ETA: 0s - loss: 0.0441 - accuracy: 0.9834INFO:tensorflow:Assets written to: models/RNN_Final-23.model\\assets\n844/844 [==============================] - 28s 33ms/step - loss: 0.0442 - accuracy: 0.9834 - val_loss: 0.1761 - val_accuracy: 0.9362\nEpoch 24/32\n841/844 [============================>.] - ETA: 0s - loss: 0.0386 - accuracy: 0.9857INFO:tensorflow:Assets written to: models/RNN_Final-24.model\\assets\n844/844 [==============================] - 28s 33ms/step - loss: 0.0387 - accuracy: 0.9856 - val_loss: 0.1216 - val_accuracy: 0.9622\nEpoch 25/32\n843/844 [============================>.] - ETA: 0s - loss: 0.0370 - accuracy: 0.9860INFO:tensorflow:Assets written to: models/RNN_Final-25.model\\assets\n844/844 [==============================] - 28s 33ms/step - loss: 0.0370 - accuracy: 0.9860 - val_loss: 0.1865 - val_accuracy: 0.9413\nEpoch 26/32\n841/844 [============================>.] - ETA: 0s - loss: 0.0371 - accuracy: 0.9864INFO:tensorflow:Assets written to: models/RNN_Final-26.model\\assets\n844/844 [==============================] - 28s 33ms/step - loss: 0.0371 - accuracy: 0.9864 - val_loss: 0.1561 - val_accuracy: 0.9558\nEpoch 27/32\n843/844 [============================>.] - ETA: 0s - loss: 0.0368 - accuracy: 0.9863INFO:tensorflow:Assets written to: models/RNN_Final-27.model\\assets\n844/844 [==============================] - 28s 33ms/step - loss: 0.0368 - accuracy: 0.9863 - val_loss: 0.1334 - val_accuracy: 0.9635\nEpoch 28/32\n844/844 [==============================] - ETA: 0s - loss: 0.0351 - accuracy: 0.9869INFO:tensorflow:Assets written to: models/RNN_Final-28.model\\assets\n844/844 [==============================] - 28s 33ms/step - loss: 0.0351 - accuracy: 0.9869 - val_loss: 0.5055 - val_accuracy: 0.8740\nEpoch 29/32\n844/844 [==============================] - ETA: 0s - loss: 0.0358 - accuracy: 0.9869INFO:tensorflow:Assets written to: models/RNN_Final-29.model\\assets\n844/844 [==============================] - 28s 33ms/step - loss: 0.0358 - accuracy: 0.9869 - val_loss: 0.3027 - val_accuracy: 0.9335\nEpoch 30/32\n843/844 [============================>.] - ETA: 0s - loss: 0.0364 - accuracy: 0.9869INFO:tensorflow:Assets written to: models/RNN_Final-30.model\\assets\n844/844 [==============================] - 28s 33ms/step - loss: 0.0364 - accuracy: 0.9869 - val_loss: 0.2163 - val_accuracy: 0.9295\nEpoch 31/32\n841/844 [============================>.] - ETA: 0s - loss: 0.0321 - accuracy: 0.9883INFO:tensorflow:Assets written to: models/RNN_Final-31.model\\assets\n844/844 [==============================] - 28s 33ms/step - loss: 0.0321 - accuracy: 0.9883 - val_loss: 0.1811 - val_accuracy: 0.9531\nEpoch 32/32\n842/844 [============================>.] - ETA: 0s - loss: 0.0315 - accuracy: 0.9887INFO:tensorflow:Assets written to: models/RNN_Final-32.model\\assets\n844/844 [==============================] - 28s 33ms/step - loss: 0.0315 - accuracy: 0.9887 - val_loss: 0.2772 - val_accuracy: 0.9306\n"
    }
   ],
   "source": [
    "NAME = f\"{RATIO_TO_PREDICT}-{SEQ_LEN}-SEQ-{FUTURE_PERIOD_PREDICT}-PRED-{int(time.time())}\"\n",
    "\n",
    "model = Sequential()\n",
    "model.add(LSTM(128, input_shape=(train_x.shape[1:]), return_sequences=True))\n",
    "model.add(Dropout(0.3))\n",
    "model.add(BatchNormalization())\n",
    "\n",
    "model.add(LSTM(128, input_shape=(train_x.shape[1:]), return_sequences=True))\n",
    "model.add(Dropout(0.1))\n",
    "model.add(BatchNormalization())\n",
    "\n",
    "model.add(LSTM(128, input_shape=(train_x.shape[1:])))\n",
    "model.add(Dropout(0.2))\n",
    "model.add(BatchNormalization())\n",
    "\n",
    "model.add(Dense(32, activation='relu'))\n",
    "model.add(Dropout(0.2))\n",
    "\n",
    "model.add(Dense(2, activation='softmax'))\n",
    "\n",
    "opt = tf.keras.optimizers.Adam(lr=0.001, decay = 1e-6)\n",
    "\n",
    "model.compile(loss='sparse_categorical_crossentropy',optimizer=opt,metrics=['accuracy'])\n",
    "\n",
    "tensorboard = TensorBoard(log_dir = f\"logs/{NAME}\")\n",
    "\n",
    "filepath = \"RNN_Final-{epoch:02d}\"  # unique file name that will include the epoch and the validation acc for that epoch\n",
    "checkpoint = ModelCheckpoint(\"models/{}.model\".format(filepath, monitor='val_acc', verbose=1, save_best_only=True, mode='max')) # saves only the best ones\n",
    "\n",
    "history = model.fit(train_x, train_y, batch_size=BATCH_SIZE, epochs=EPOCHS,validation_data=(validation_x, validation_y), callbacks=[tensorboard, checkpoint])\n",
    "\n",
    "\n"
   ]
  },
  {
   "cell_type": "code",
   "execution_count": 10,
   "metadata": {
    "tags": [
     "outputPrepend",
     "outputPrepend",
     "outputPrepend",
     "outputPrepend",
     "outputPrepend",
     "outputPrepend",
     "outputPrepend",
     "outputPrepend",
     "outputPrepend",
     "outputPrepend",
     "outputPrepend",
     "outputPrepend"
    ]
   },
   "outputs": [
    {
     "output_type": "stream",
     "name": "stdout",
     "text": " Buy\nPrediction: Sell Answer: Sell\nPrediction: Sell Answer: Sell\nPrediction: Sell Answer: Sell\nPrediction: Sell Answer: Buy\nPrediction: Sell Answer: Buy\nPrediction: Buy Answer: Buy\nPrediction: Sell Answer: Sell\nPrediction: Buy Answer: Buy\nPrediction: Sell Answer: Sell\nPrediction: Sell Answer: Sell\nPrediction: Sell Answer: Buy\nPrediction: Sell Answer: Sell\nPrediction: Buy Answer: Buy\nPrediction: Sell Answer: Sell\nPrediction: Buy Answer: Buy\nPrediction: Buy Answer: Buy\nPrediction: Sell Answer: Sell\nPrediction: Sell Answer: Sell\nPrediction: Sell Answer: Buy\nPrediction: Sell Answer: Buy\nPrediction: Sell Answer: Sell\nPrediction: Sell Answer: Sell\nPrediction: Sell Answer: Buy\nPrediction: Sell Answer: Sell\nPrediction: Sell Answer: Sell\nPrediction: Sell Answer: Sell\nPrediction: Buy Answer: Buy\nPrediction: Sell Answer: Sell\nPrediction: Sell Answer: Buy\nPrediction: Sell Answer: Buy\nPrediction: Buy Answer: Buy\nPrediction: Buy Answer: Buy\nPrediction: Sell Answer: Buy\nPrediction: Sell Answer: Sell\nPrediction: Sell Answer: Buy\nPrediction: Buy Answer: Buy\nPrediction: Sell Answer: Buy\nPrediction: Sell Answer: Sell\nPrediction: Buy Answer: Buy\nPrediction: Sell Answer: Buy\nPrediction: Sell Answer: Sell\nPrediction: Sell Answer: Buy\nPrediction: Buy Answer: Buy\nPrediction: Buy Answer: Buy\nPrediction: Sell Answer: Buy\nPrediction: Buy Answer: Buy\nPrediction: Sell Answer: Buy\nPrediction: Sell Answer: Sell\nPrediction: Buy Answer: Buy\nPrediction: Sell Answer: Buy\nPrediction: Sell Answer: Sell\nPrediction: Buy Answer: Buy\nPrediction: Sell Answer: Buy\nPrediction: Sell Answer: Sell\nPrediction: Sell Answer: Buy\nPrediction: Sell Answer: Buy\nPrediction: Buy Answer: Buy\nPrediction: Sell Answer: Buy\nPrediction: Sell Answer: Buy\nPrediction: Buy Answer: Buy\nPrediction: Buy Answer: Buy\nPrediction: Sell Answer: Sell\nPrediction: Sell Answer: Sell\nPrediction: Sell Answer: Buy\nPrediction: Sell Answer: Buy\nPrediction: Sell Answer: Sell\nPrediction: Sell Answer: Sell\nPrediction: Sell Answer: Buy\nPrediction: Sell Answer: Sell\nPrediction: Sell Answer: Sell\nPrediction: Sell Answer: Sell\nPrediction: Sell Answer: Sell\nPrediction: Sell Answer: Sell\nPrediction: Sell Answer: Buy\nPrediction: Sell Answer: Sell\nPrediction: Buy Answer: Buy\nPrediction: Sell Answer: Sell\nPrediction: Buy Answer: Buy\nPrediction: Buy Answer: Buy\nPrediction: Sell Answer: Sell\nPrediction: Sell Answer: Sell\nPrediction: Sell Answer: Sell\nPrediction: Sell Answer: Sell\nPrediction: Sell Answer: Sell\nPrediction: Sell Answer: Sell\nPrediction: Sell Answer: Buy\nPrediction: Buy Answer: Buy\nPrediction: Sell Answer: Buy\nPrediction: Buy Answer: Buy\nPrediction: Buy Answer: Buy\nPrediction: Sell Answer: Buy\nPrediction: Buy Answer: Buy\nPrediction: Sell Answer: Buy\nPrediction: Sell Answer: Buy\nPrediction: Buy Answer: Buy\nPrediction: Sell Answer: Sell\nPrediction: Sell Answer: Buy\nPrediction: Sell Answer: Buy\nPrediction: Sell Answer: Buy\nPrediction: Sell Answer: Buy\nPrediction: Sell Answer: Sell\nPrediction: Sell Answer: Buy\nPrediction: Sell Answer: Sell\nPrediction: Sell Answer: Sell\nPrediction: Buy Answer: Buy\nPrediction: Sell Answer: Sell\nPrediction: Sell Answer: Buy\nPrediction: Sell Answer: Sell\nPrediction: Buy Answer: Buy\nPrediction: Sell Answer: Sell\nPrediction: Sell Answer: Buy\nPrediction: Sell Answer: Sell\nPrediction: Sell Answer: Buy\nPrediction: Sell Answer: Buy\nPrediction: Buy Answer: Buy\nPrediction: Sell Answer: Buy\nPrediction: Sell Answer: Sell\nPrediction: Buy Answer: Sell\nPrediction: Sell Answer: Buy\nPrediction: Sell Answer: Buy\nPrediction: Sell Answer: Buy\nPrediction: Sell Answer: Buy\nPrediction: Sell Answer: Sell\nPrediction: Sell Answer: Sell\nPrediction: Buy Answer: Buy\nPrediction: Sell Answer: Sell\nPrediction: Sell Answer: Sell\nPrediction: Sell Answer: Sell\nPrediction: Sell Answer: Sell\nPrediction: Sell Answer: Buy\nPrediction: Sell Answer: Sell\nPrediction: Sell Answer: Sell\nPrediction: Sell Answer: Buy\nPrediction: Buy Answer: Buy\nPrediction: Buy Answer: Buy\nPrediction: Sell Answer: Sell\nPrediction: Sell Answer: Buy\nPrediction: Sell Answer: Sell\nPrediction: Buy Answer: Buy\nPrediction: Sell Answer: Sell\nPrediction: Sell Answer: Buy\nPrediction: Buy Answer: Buy\nPrediction: Sell Answer: Sell\nPrediction: Sell Answer: Sell\nPrediction: Sell Answer: Buy\nPrediction: Sell Answer: Buy\nPrediction: Sell Answer: Sell\nPrediction: Sell Answer: Sell\nPrediction: Buy Answer: Buy\nPrediction: Sell Answer: Buy\nPrediction: Buy Answer: Buy\nPrediction: Sell Answer: Buy\nPrediction: Sell Answer: Sell\nPrediction: Sell Answer: Buy\nPrediction: Sell Answer: Buy\nPrediction: Buy Answer: Buy\nPrediction: Sell Answer: Buy\nPrediction: Buy Answer: Buy\nPrediction: Sell Answer: Buy\nPrediction: Buy Answer: Buy\nPrediction: Sell Answer: Sell\nPrediction: Buy Answer: Buy\nPrediction: Buy Answer: Buy\nPrediction: Sell Answer: Sell\nPrediction: Buy Answer: Buy\nPrediction: Sell Answer: Sell\nPrediction: Sell Answer: Sell\nPrediction: Sell Answer: Sell\nPrediction: Sell Answer: Sell\nPrediction: Buy Answer: Buy\nPrediction: Sell Answer: Buy\nPrediction: Sell Answer: Sell\nPrediction: Sell Answer: Sell\nPrediction: Buy Answer: Buy\nPrediction: Buy Answer: Buy\nPrediction: Sell Answer: Sell\nPrediction: Buy Answer: Sell\nPrediction: Sell Answer: Sell\nPrediction: Sell Answer: Sell\nPrediction: Sell Answer: Sell\nPrediction: Sell Answer: Sell\nPrediction: Sell Answer: Sell\nPrediction: Buy Answer: Buy\nPrediction: Sell Answer: Sell\nPrediction: Sell Answer: Buy\nPrediction: Sell Answer: Buy\nPrediction: Sell Answer: Sell\nPrediction: Sell Answer: Sell\nPrediction: Buy Answer: Buy\nPrediction: Sell Answer: Buy\nPrediction: Sell Answer: Sell\nPrediction: Sell Answer: Sell\nPrediction: Sell Answer: Sell\nPrediction: Sell Answer: Buy\nPrediction: Sell Answer: Sell\nPrediction: Sell Answer: Buy\nPrediction: Sell Answer: Sell\nPrediction: Buy Answer: Buy\nPrediction: Sell Answer: Sell\nPrediction: Sell Answer: Sell\nPrediction: Sell Answer: Sell\nPrediction: Sell Answer: Buy\nPrediction: Sell Answer: Buy\nPrediction: Sell Answer: Buy\nPrediction: Sell Answer: Sell\nPrediction: Sell Answer: Sell\nPrediction: Sell Answer: Buy\nPrediction: Sell Answer: Sell\nPrediction: Sell Answer: Buy\nPrediction: Sell Answer: Sell\nPrediction: Sell Answer: Buy\nPrediction: Sell Answer: Sell\nPrediction: Sell Answer: Sell\nPrediction: Sell Answer: Buy\nPrediction: Sell Answer: Sell\nPrediction: Sell Answer: Sell\nPrediction: Sell Answer: Buy\nPrediction: Sell Answer: Sell\nPrediction: Sell Answer: Sell\nPrediction: Sell Answer: Sell\nPrediction: Buy Answer: Buy\nPrediction: Buy Answer: Buy\nPrediction: Sell Answer: Buy\nPrediction: Sell Answer: Sell\nPrediction: Buy Answer: Buy\nPrediction: Sell Answer: Sell\nPrediction: Sell Answer: Sell\nPrediction: Sell Answer: Buy\nPrediction: Sell Answer: Buy\nPrediction: Buy Answer: Buy\nPrediction: Sell Answer: Sell\nPrediction: Sell Answer: Sell\nPrediction: Sell Answer: Sell\nPrediction: Sell Answer: Sell\nPrediction: Sell Answer: Sell\nPrediction: Sell Answer: Buy\nPrediction: Sell Answer: Sell\nPrediction: Buy Answer: Buy\nPrediction: Sell Answer: Buy\nPrediction: Sell Answer: Sell\nPrediction: Sell Answer: Buy\nPrediction: Sell Answer: Buy\nPrediction: Sell Answer: Sell\nPrediction: Sell Answer: Sell\nPrediction: Sell Answer: Sell\nPrediction: Sell Answer: Buy\nPrediction: Buy Answer: Buy\nPrediction: Sell Answer: Buy\nPrediction: Sell Answer: Sell\nPrediction: Sell Answer: Buy\nPrediction: Sell Answer: Sell\nPrediction: Buy Answer: Buy\nPrediction: Buy Answer: Buy\nPrediction: Sell Answer: Buy\nPrediction: Sell Answer: Sell\nPrediction: Buy Answer: Buy\nPrediction: Sell Answer: Sell\nPrediction: Buy Answer: Buy\nPrediction: Sell Answer: Buy\nPrediction: Buy Answer: Sell\nPrediction: Sell Answer: Sell\nPrediction: Sell Answer: Sell\nPrediction: Sell Answer: Sell\nPrediction: Buy Answer: Buy\nPrediction: Sell Answer: Sell\nPrediction: Sell Answer: Buy\nPrediction: Sell Answer: Sell\nPrediction: Sell Answer: Sell\nPrediction: Buy Answer: Buy\nPrediction: Buy Answer: Buy\nPrediction: Sell Answer: Buy\nPrediction: Sell Answer: Buy\nPrediction: Sell Answer: Sell\nPrediction: Sell Answer: Buy\nPrediction: Sell Answer: Sell\nPrediction: Sell Answer: Buy\nPrediction: Sell Answer: Sell\nPrediction: Buy Answer: Sell\nPrediction: Sell Answer: Buy\nPrediction: Sell Answer: Buy\nPrediction: Buy Answer: Buy\nPrediction: Sell Answer: Sell\nPrediction: Sell Answer: Buy\nPrediction: Sell Answer: Buy\nPrediction: Sell Answer: Sell\nPrediction: Sell Answer: Sell\nPrediction: Sell Answer: Buy\nPrediction: Sell Answer: Buy\nPrediction: Buy Answer: Buy\nPrediction: Sell Answer: Sell\nPrediction: Sell Answer: Sell\nPrediction: Sell Answer: Sell\nPrediction: Sell Answer: Sell\nPrediction: Sell Answer: Sell\nPrediction: Sell Answer: Sell\nPrediction: Sell Answer: Sell\nPrediction: Sell Answer: Sell\nPrediction: Sell Answer: Sell\nPrediction: Sell Answer: Sell\nPrediction: Sell Answer: Buy\nPrediction: Sell Answer: Sell\nPrediction: Sell Answer: Sell\nPrediction: Sell Answer: Sell\nPrediction: Sell Answer: Buy\nPrediction: Sell Answer: Sell\nPrediction: Sell Answer: Sell\nPrediction: Sell Answer: Buy\nPrediction: Sell Answer: Sell\nPrediction: Sell Answer: Buy\nPrediction: Sell Answer: Sell\nPrediction: Sell Answer: Sell\nPrediction: Sell Answer: Buy\nPrediction: Sell Answer: Sell\nPrediction: Buy Answer: Buy\nPrediction: Sell Answer: Sell\nPrediction: Sell Answer: Buy\nPrediction: Sell Answer: Buy\nPrediction: Sell Answer: Buy\nPrediction: Buy Answer: Buy\nPrediction: Sell Answer: Sell\nPrediction: Buy Answer: Buy\nPrediction: Sell Answer: Sell\nPrediction: Sell Answer: Buy\nPrediction: Sell Answer: Buy\nPrediction: Sell Answer: Sell\nPrediction: Sell Answer: Buy\nPrediction: Sell Answer: Buy\nPrediction: Sell Answer: Buy\nPrediction: Buy Answer: Buy\nPrediction: Sell Answer: Sell\nPrediction: Sell Answer: Sell\nPrediction: Sell Answer: Buy\nPrediction: Sell Answer: Buy\nPrediction: Sell Answer: Sell\nPrediction: Sell Answer: Sell\nPrediction: Buy Answer: Buy\nPrediction: Buy Answer: Buy\nPrediction: Sell Answer: Sell\nPrediction: Sell Answer: Sell\nPrediction: Sell Answer: Sell\nPrediction: Buy Answer: Buy\nPrediction: Buy Answer: Buy\nPrediction: Buy Answer: Buy\nPrediction: Sell Answer: Sell\nPrediction: Sell Answer: Sell\nPrediction: Sell Answer: Buy\nPrediction: Sell Answer: Sell\nPrediction: Sell Answer: Sell\nPrediction: Sell Answer: Buy\nPrediction: Buy Answer: Buy\nPrediction: Buy Answer: Buy\nPrediction: Sell Answer: Sell\nPrediction: Buy Answer: Buy\nPrediction: Sell Answer: Sell\nPrediction: Sell Answer: Buy\nPrediction: Sell Answer: Sell\nPrediction: Sell Answer: Sell\nPrediction: Sell Answer: Buy\nPrediction: Sell Answer: Sell\nPrediction: Sell Answer: Sell\nPrediction: Sell Answer: Sell\nPrediction: Sell Answer: Sell\nPrediction: Sell Answer: Buy\nPrediction: Sell Answer: Sell\nPrediction: Sell Answer: Sell\nPrediction: Sell Answer: Sell\nPrediction: Sell Answer: Sell\nPrediction: Sell Answer: Buy\nPrediction: Buy Answer: Buy\nPrediction: Sell Answer: Sell\nPrediction: Sell Answer: Buy\nPrediction: Sell Answer: Sell\nPrediction: Sell Answer: Buy\nPrediction: Sell Answer: Sell\nPrediction: Sell Answer: Buy\nPrediction: Sell Answer: Sell\nPrediction: Sell Answer: Buy\nPrediction: Buy Answer: Buy\nPrediction: Sell Answer: Buy\nPrediction: Buy Answer: Buy\nPrediction: Sell Answer: Sell\nPrediction: Sell Answer: Sell\nPrediction: Buy Answer: Buy\nPrediction: Sell Answer: Buy\nPrediction: Buy Answer: Buy\nPrediction: Sell Answer: Buy\nPrediction: Sell Answer: Sell\nPrediction: Sell Answer: Sell\nPrediction: Sell Answer: Buy\nPrediction: Sell Answer: Buy\nPrediction: Sell Answer: Buy\nPrediction: Sell Answer: Buy\nPrediction: Sell Answer: Buy\nPrediction: Sell Answer: Buy\nPrediction: Sell Answer: Sell\nPrediction: Sell Answer: Sell\nPrediction: Buy Answer: Buy\nPrediction: Sell Answer: Buy\nPrediction: Sell Answer: Sell\nPrediction: Sell Answer: Buy\nPrediction: Buy Answer: Buy\nPrediction: Sell Answer: Sell\nPrediction: Sell Answer: Buy\nPrediction: Sell Answer: Sell\nPrediction: Sell Answer: Sell\nPrediction: Buy Answer: Buy\nPrediction: Sell Answer: Sell\nPrediction: Sell Answer: Sell\nPrediction: Sell Answer: Sell\nPrediction: Sell Answer: Sell\nPrediction: Sell Answer: Sell\nPrediction: Sell Answer: Sell\nPrediction: Buy Answer: Buy\nPrediction: Sell Answer: Sell\nPrediction: Sell Answer: Sell\nPrediction: Sell Answer: Buy\nPrediction: Sell Answer: Buy\nPrediction: Sell Answer: Sell\nPrediction: Sell Answer: Sell\nPrediction: Sell Answer: Buy\nPrediction: Buy Answer: Buy\nPrediction: Sell Answer: Buy\nPrediction: Sell Answer: Buy\nPrediction: Sell Answer: Buy\nPrediction: Buy Answer: Buy\nPrediction: Sell Answer: Sell\nPrediction: Sell Answer: Buy\nPrediction: Buy Answer: Buy\nPrediction: Sell Answer: Buy\nPrediction: Sell Answer: Sell\nPrediction: Sell Answer: Sell\nPrediction: Sell Answer: Sell\nPrediction: Buy Answer: Buy\nPrediction: Sell Answer: Buy\nPrediction: Sell Answer: Buy\nPrediction: Sell Answer: Buy\nPrediction: Sell Answer: Buy\nPrediction: Sell Answer: Sell\nPrediction: Sell Answer: Sell\nPrediction: Sell Answer: Sell\nPrediction: Sell Answer: Sell\nPrediction: Sell Answer: Sell\nPrediction: Sell Answer: Sell\nPrediction: Sell Answer: Sell\nPrediction: Sell Answer: Buy\nPrediction: Sell Answer: Buy\nPrediction: Sell Answer: Sell\nPrediction: Buy Answer: Buy\nPrediction: Buy Answer: Buy\nPrediction: Sell Answer: Buy\nPrediction: Sell Answer: Sell\nPrediction: Sell Answer: Buy\nPrediction: Buy Answer: Buy\nPrediction: Buy Answer: Buy\nPrediction: Buy Answer: Sell\nPrediction: Sell Answer: Buy\nPrediction: Sell Answer: Sell\nPrediction: Buy Answer: Buy\nPrediction: Buy Answer: Buy\nPrediction: Buy Answer: Buy\nPrediction: Sell Answer: Sell\nPrediction: Sell Answer: Buy\nPrediction: Sell Answer: Sell\nPrediction: Sell Answer: Sell\nPrediction: Sell Answer: Sell\nPrediction: Sell Answer: Sell\nPrediction: Sell Answer: Sell\nPrediction: Sell Answer: Sell\nPrediction: Sell Answer: Sell\nPrediction: Sell Answer: Sell\nPrediction: Buy Answer: Buy\nPrediction: Sell Answer: Sell\nPrediction: Buy Answer: Buy\nPrediction: Sell Answer: Buy\nPrediction: Sell Answer: Sell\nPrediction: Sell Answer: Buy\nPrediction: Sell Answer: Sell\nPrediction: Sell Answer: Sell\nPrediction: Sell Answer: Sell\nPrediction: Sell Answer: Sell\nPrediction: Sell Answer: Buy\nPrediction: Buy Answer: Buy\nPrediction: Sell Answer: Sell\nPrediction: Buy Answer: Buy\nPrediction: Buy Answer: Buy\nPrediction: Buy Answer: Buy\nPrediction: Sell Answer: Sell\nPrediction: Buy Answer: Buy\nPrediction: Sell Answer: Sell\nPrediction: Sell Answer: Buy\nPrediction: Sell Answer: Sell\nPrediction: Sell Answer: Sell\nPrediction: Sell Answer: Buy\nPrediction: Sell Answer: Sell\nPrediction: Sell Answer: Sell\nPrediction: Sell Answer: Sell\nPrediction: Sell Answer: Buy\nPrediction: Sell Answer: Sell\nPrediction: Buy Answer: Buy\nPrediction: Sell Answer: Sell\nPrediction: Buy Answer: Buy\nPrediction: Sell Answer: Buy\nPrediction: Sell Answer: Buy\nPrediction: Sell Answer: Sell\nPrediction: Sell Answer: Sell\nPrediction: Sell Answer: Sell\nPrediction: Sell Answer: Sell\nPrediction: Sell Answer: Sell\nPrediction: Sell Answer: Buy\nPrediction: Buy Answer: Buy\nPrediction: Sell Answer: Buy\nPrediction: Sell Answer: Sell\nPrediction: Sell Answer: Sell\nPrediction: Sell Answer: Buy\nPrediction: Sell Answer: Buy\nPrediction: Sell Answer: Sell\nPrediction: Sell Answer: Buy\nPrediction: Buy Answer: Buy\nPrediction: Buy Answer: Buy\nPrediction: Buy Answer: Buy\nPrediction: Sell Answer: Buy\nPrediction: Sell Answer: Buy\nPrediction: Buy Answer: Buy\nPrediction: Sell Answer: Sell\nPrediction: Sell Answer: Sell\nPrediction: Sell Answer: Buy\nPrediction: Sell Answer: Sell\nPrediction: Sell Answer: Buy\nPrediction: Sell Answer: Sell\nPrediction: Sell Answer: Sell\nPrediction: Buy Answer: Buy\nPrediction: Buy Answer: Sell\nPrediction: Sell Answer: Sell\nPrediction: Buy Answer: Buy\nPrediction: Sell Answer: Sell\nPrediction: Sell Answer: Sell\nPrediction: Sell Answer: Sell\nPrediction: Sell Answer: Buy\nPrediction: Sell Answer: Buy\nPrediction: Sell Answer: Buy\nPrediction: Sell Answer: Sell\nPrediction: Sell Answer: Buy\nPrediction: Buy Answer: Buy\nPrediction: Sell Answer: Buy\nPrediction: Sell Answer: Buy\nPrediction: Buy Answer: Buy\nPrediction: Sell Answer: Sell\nPrediction: Sell Answer: Sell\nPrediction: Buy Answer: Sell\nPrediction: Buy Answer: Sell\nPrediction: Buy Answer: Buy\nPrediction: Sell Answer: Sell\nPrediction: Sell Answer: Buy\nPrediction: Buy Answer: Buy\nPrediction: Sell Answer: Sell\nPrediction: Buy Answer: Buy\nPrediction: Sell Answer: Sell\nPrediction: Sell Answer: Sell\nPrediction: Sell Answer: Sell\nPrediction: Sell Answer: Buy\nPrediction: Sell Answer: Sell\nPrediction: Sell Answer: Buy\nPrediction: Sell Answer: Buy\nPrediction: Sell Answer: Sell\nPrediction: Sell Answer: Sell\nPrediction: Sell Answer: Sell\nPrediction: Sell Answer: Buy\nPrediction: Sell Answer: Sell\nPrediction: Sell Answer: Sell\nPrediction: Sell Answer: Sell\nPrediction: Sell Answer: Sell\nPrediction: Sell Answer: Sell\nPrediction: Sell Answer: Sell\nPrediction: Sell Answer: Buy\nPrediction: Sell Answer: Sell\nPrediction: Sell Answer: Sell\nPrediction: Sell Answer: Buy\nPrediction: Sell Answer: Sell\nPrediction: Buy Answer: Buy\nPrediction: Sell Answer: Sell\nPrediction: Sell Answer: Sell\nPrediction: Buy Answer: Buy\nPrediction: Sell Answer: Sell\nPrediction: Sell Answer: Buy\nPrediction: Sell Answer: Sell\nPrediction: Sell Answer: Buy\nPrediction: Sell Answer: Sell\nPrediction: Sell Answer: Buy\nPrediction: Buy Answer: Buy\nPrediction: Sell Answer: Sell\nPrediction: Buy Answer: Buy\nPrediction: Sell Answer: Buy\nPrediction: Sell Answer: Sell\nPrediction: Sell Answer: Sell\nPrediction: Buy Answer: Buy\nPrediction: Sell Answer: Sell\nPrediction: Sell Answer: Sell\nPrediction: Buy Answer: Buy\nPrediction: Sell Answer: Sell\nPrediction: Sell Answer: Sell\nPrediction: Buy Answer: Buy\nPrediction: Sell Answer: Sell\nPrediction: Sell Answer: Sell\nPrediction: Sell Answer: Sell\nPrediction: Sell Answer: Buy\nPrediction: Sell Answer: Buy\nPrediction: Sell Answer: Sell\nPrediction: Sell Answer: Sell\nPrediction: Sell Answer: Buy\nPrediction: Sell Answer: Sell\nPrediction: Sell Answer: Buy\nPrediction: Sell Answer: Buy\nPrediction: Sell Answer: Sell\nPrediction: Buy Answer: Buy\nPrediction: Sell Answer: Buy\nPrediction: Sell Answer: Sell\nPrediction: Sell Answer: Sell\nPrediction: Sell Answer: Buy\nPrediction: Sell Answer: Sell\nPrediction: Sell Answer: Sell\nPrediction: Sell Answer: Sell\nPrediction: Sell Answer: Buy\nPrediction: Sell Answer: Sell\nPrediction: Buy Answer: Buy\nPrediction: Buy Answer: Buy\nPrediction: Sell Answer: Sell\nPrediction: Sell Answer: Buy\nPrediction: Sell Answer: Sell\nPrediction: Buy Answer: Buy\nPrediction: Sell Answer: Sell\nPrediction: Sell Answer: Sell\nPrediction: Sell Answer: Sell\nPrediction: Sell Answer: Buy\nPrediction: Buy Answer: Buy\nPrediction: Sell Answer: Sell\nPrediction: Sell Answer: Buy\nPrediction: Sell Answer: Sell\nPrediction: Sell Answer: Buy\nPrediction: Buy Answer: Buy\nPrediction: Buy Answer: Buy\nPrediction: Buy Answer: Buy\nPrediction: Sell Answer: Sell\nPrediction: Sell Answer: Sell\nPrediction: Sell Answer: Buy\nPrediction: Sell Answer: Buy\nPrediction: Sell Answer: Sell\nPrediction: Buy Answer: Buy\nPrediction: Sell Answer: Sell\nPrediction: Sell Answer: Buy\nPrediction: Sell Answer: Sell\nPrediction: Sell Answer: Buy\nPrediction: Buy Answer: Buy\nPrediction: Buy Answer: Buy\nPrediction: Buy Answer: Buy\nPrediction: Sell Answer: Sell\nPrediction: Sell Answer: Sell\nPrediction: Sell Answer: Sell\nPrediction: Sell Answer: Sell\nPrediction: Sell Answer: Sell\nPrediction: Sell Answer: Buy\nPrediction: Buy Answer: Buy\nPrediction: Sell Answer: Buy\nPrediction: Sell Answer: Sell\nPrediction: Sell Answer: Sell\nPrediction: Sell Answer: Sell\nPrediction: Buy Answer: Buy\nPrediction: Sell Answer: Sell\nPrediction: Buy Answer: Buy\nPrediction: Sell Answer: Buy\nPrediction: Sell Answer: Buy\nPrediction: Sell Answer: Sell\nPrediction: Sell Answer: Buy\nPrediction: Sell Answer: Buy\nPrediction: Sell Answer: Sell\nPrediction: Sell Answer: Buy\nPrediction: Sell Answer: Sell\nPrediction: Sell Answer: Buy\nPrediction: Sell Answer: Buy\nPrediction: Sell Answer: Sell\nPrediction: Buy Answer: Buy\nPrediction: Buy Answer: Buy\nPrediction: Sell Answer: Sell\nPrediction: Sell Answer: Sell\n"
    }
   ],
   "source": [
    "\n",
    "CATEGORIES = [\"Sell\", \"Buy\"]\n",
    "model = tf.keras.models.load_model(\"D:/projects/rnn/models/RNN_Final-32.model\")\n",
    "\n",
    "prediction = model.predict(test_x)\n",
    "for i in range(len(prediction)):\n",
    "    predictionfinal = max(prediction[i])\n",
    "    print(\"Prediction: \"+CATEGORIES[int(predictionfinal)],\"Answer: \"+CATEGORIES[int(test_y[i])])\n"
   ]
  },
  {
   "cell_type": "code",
   "execution_count": 15,
   "metadata": {},
   "outputs": [
    {
     "output_type": "stream",
     "name": "stdout",
     "text": "453/453 [==============================] - 3s 7ms/step - loss: 0.1157 - accuracy: 0.9645\nAccuracy: 96.44533395767212\nLoss: 11.565238982439041\n"
    }
   ],
   "source": [
    "loss, accuracy = model.evaluate(test_x, test_y)\n",
    "print(\"Accuracy: \" +str(accuracy*100))\n",
    "print(\"Loss: \" +str(loss*100))"
   ]
  },
  {
   "cell_type": "code",
   "execution_count": null,
   "metadata": {},
   "outputs": [],
   "source": []
  }
 ],
 "metadata": {
  "language_info": {
   "codemirror_mode": {
    "name": "ipython",
    "version": 3
   },
   "file_extension": ".py",
   "mimetype": "text/x-python",
   "name": "python",
   "nbconvert_exporter": "python",
   "pygments_lexer": "ipython3",
   "version": "3.7.6-final"
  },
  "orig_nbformat": 2,
  "kernelspec": {
   "name": "python37464bitbaseconda9d76761ddbf84cf5994e5711d932adb3",
   "display_name": "Python 3.7.4 64-bit ('base': conda)"
  }
 },
 "nbformat": 4,
 "nbformat_minor": 2
}